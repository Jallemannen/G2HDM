{
 "cells": [
  {
   "cell_type": "markdown",
   "id": "3c575c90-cbf2-444c-ae9d-2c6dbb6749ed",
   "metadata": {},
   "source": [
    "# Parameter Search Higgs"
   ]
  },
  {
   "cell_type": "code",
   "execution_count": 4,
   "id": "5561b7d4-8e0e-410e-a561-8e7a0421202d",
   "metadata": {},
   "outputs": [
    {
     "name": "stdout",
     "output_type": "stream",
     "text": [
      "Free parameters:  11\n",
      "Processes: 20\n",
      "Press enter to stop the worker processes. \n",
      "\n",
      "Iterations: 11201 | Runtime: 13h:34m:28s | Sec/iteration: 4.36 | Iterations/hour: 825 |         \r"
     ]
    },
    {
     "name": "stdin",
     "output_type": "stream",
     "text": [
      " \n"
     ]
    },
    {
     "name": "stdout",
     "output_type": "stream",
     "text": [
      "Thread 9 finished.\n",
      "Thread 18 finished.\n",
      "Thread 3 finished.\n",
      "\n",
      "Stopping...\n",
      "Thread 2 finished.\n",
      "Thread 17 finished.Thread 20 finished.\n",
      "\n",
      "Thread 13 finished.\n",
      "Thread 16 finished.\n",
      "Thread 6 finished.\n",
      "Thread 15 finished.\n",
      "Thread 19 finished.\n",
      "Thread 5 finished.\n",
      "Thread 1 finished.\n",
      "Thread 10 finished.\n",
      "Thread 14 finished.\n",
      "Thread 8 finished.\n",
      "Thread 12 finished.\n",
      "Thread 11 finished.\n",
      "Thread 7 finished.\n",
      "Thread 4 finished.\n",
      "All processes finished. Collecting results...\n",
      "Data saved to: /home/hjalmarh/Documents/2HDM_project/G2HDM_v1.0.0/Saved Data/2HDM_higgs/Data/positive_mass_parameter_search.csv \n",
      "File size on disk: 8165374.00 MB\n"
     ]
    }
   ],
   "source": [
    "from importing import *\n",
    "model = load_model(\"2HDM_higgs\")\n",
    "\n",
    "#Tadpole conditions\n",
    "Z1, R_Z6, I_Z6 = 1, 1, 1\n",
    "v = 246 #model.omega\n",
    "Y11 = -v**2/2*Z1\n",
    "R_Y12 = v**2/2*R_Z6\n",
    "I_Y12 = v**2/2*I_Z6\n",
    "# Mass parameter reassign\n",
    "MHp, Z3 = 500, 4\n",
    "Y22 = MHp - (v**2/2)*Z3\n",
    "\n",
    "params_values = [Y11, Y22,\n",
    "                    Z1,1,Z3,4,\n",
    "                    R_Y12,I_Y12,\n",
    "                    -1,-1,R_Z6,I_Z6,-1,1]\n",
    "\n",
    "\n",
    "\n",
    "# \n",
    "x1, x2, x3, x4, x5, x6 = sp.symbols(\"x1 x2 x3 x4 x5 x6\")\n",
    "params_free = [x1, x2, x3, x4, x5, x6]\n",
    "params_relations = [x1, x2, x3, x4, x5, x6, 0, 0, 0, 0, 0, 0, 0, 0] + [246]\n",
    "params_ranges=[(0,1), (0,1), (0,1), (0,1), (0,1), (0,1)]\n",
    "\n",
    "#\n",
    "x11, x22, x1, x2, x3, x4, rx12, ix12, rx5, ix5, rx6, ix6, rx7, ix7 = sp.symbols(\"x11 x22 x1 x2 x3 x4 rx12 ix12 rx5 ix5 rx6 ix6 rx7 ix7\")\n",
    "mHp = sp.symbols(\"mHp\")\n",
    "params_relations = [-v**2/2*x1, mHp - (v**2/2)*x3, x1, x2, x3, x4, v**2/2*rx6, v**2/2*rx6, rx5, ix5, rx6, ix6, rx7, ix7] + [246]\n",
    "params_free = [mHp, x1, x2, x3, x4, rx5, ix5, rx6, ix6, rx7, ix7]\n",
    "params_ranges=[(0,500), (0,4*np.pi), (0,4*np.pi),(0,4*np.pi),(0,4*np.pi),(0,4*np.pi),(0,4*np.pi),(0,4*np.pi),(0,4*np.pi),(0,4*np.pi),(0,4*np.pi)]\n",
    "\n",
    "model.param_search(params_ranges, params_free, params_relations,\n",
    "                 N_processes=20, runtime=None, iterations=None, filename=\"positive_mass_parameter_search\", merge=True)"
   ]
  },
  {
   "cell_type": "markdown",
   "id": "5e5ca52f-544b-4645-b1ab-b1377dccf37b",
   "metadata": {},
   "source": [
    "## Plot data"
   ]
  },
  {
   "cell_type": "code",
   "execution_count": 2,
   "id": "6a5e16e5-0441-4275-9493-2da0414423ca",
   "metadata": {},
   "outputs": [
    {
     "ename": "ModuleNotFoundError",
     "evalue": "No module named 'importing'",
     "output_type": "error",
     "traceback": [
      "\u001b[0;31m---------------------------------------------------------------------------\u001b[0m",
      "\u001b[0;31mModuleNotFoundError\u001b[0m                       Traceback (most recent call last)",
      "Cell \u001b[0;32mIn[2], line 1\u001b[0m\n\u001b[0;32m----> 1\u001b[0m \u001b[38;5;28;01mfrom\u001b[39;00m \u001b[38;5;21;01mimporting\u001b[39;00m \u001b[38;5;28;01mimport\u001b[39;00m \u001b[38;5;241m*\u001b[39m\n\u001b[1;32m      2\u001b[0m model \u001b[38;5;241m=\u001b[39m load_model(\u001b[38;5;124m\"\u001b[39m\u001b[38;5;124mhiggs\u001b[39m\u001b[38;5;124m\"\u001b[39m)\n\u001b[1;32m      3\u001b[0m data \u001b[38;5;241m=\u001b[39m model\u001b[38;5;241m.\u001b[39mload_data(filename\u001b[38;5;241m=\u001b[39m\u001b[38;5;124m\"\u001b[39m\u001b[38;5;124mpositive_mass_parameter_search\u001b[39m\u001b[38;5;124m\"\u001b[39m)\n",
      "\u001b[0;31mModuleNotFoundError\u001b[0m: No module named 'importing'"
     ]
    }
   ],
   "source": [
    "from importing import *\n",
    "model = load_model(\"higgs\")\n",
    "data = model.load_data(filename=\"positive_mass_parameter_search\")\n",
    "#display(data)\n",
    "from itertools import combinations\n",
    "import math\n",
    "\n",
    "# Generate all combinations of the data keys\n",
    "keys = [\"m_1\", \"m_2\", \"m_3\", \"m_4\", \"m_5\", \"m_6\"]\n",
    "keys = [\"m_2\", \"m_3\", \"m_4\", \"m_5\"]\n",
    "combinations_of_data = list(combinations(keys, 2))\n",
    "\n",
    "# Determine the number of rows and columns for subplots\n",
    "n_combinations = len(combinations_of_data)\n",
    "n_cols = 3  # Number of columns (adjust as needed)\n",
    "n_rows = math.ceil(n_combinations / n_cols)\n",
    "\n",
    "# Plot all combinations\n",
    "plt.figure(figsize=(5 * n_cols, 4 * n_rows))\n",
    "for i, (key_x, key_y) in enumerate(combinations_of_data):\n",
    "    plt.subplot(n_rows, n_cols, i + 1)\n",
    "    plt.scatter(data[key_x], data[key_y], marker=\".\")\n",
    "    plt.xlabel(key_x)\n",
    "    plt.ylabel(key_y)\n",
    "    plt.title(f'{key_x} vs {key_y}')\n",
    "    plt.grid(True)\n",
    "\n",
    "plt.tight_layout()  # Ensure layout is neat\n",
    "plt.savefig(\"paramSearch2\", dpi=500)\n",
    "plt.show()"
   ]
  },
  {
   "cell_type": "code",
   "execution_count": null,
   "id": "3c1a8681-c0dd-45f9-a924-1afbae046f1d",
   "metadata": {},
   "outputs": [],
   "source": [
    "# Histogram "
   ]
  }
 ],
 "metadata": {
  "kernelspec": {
   "display_name": "Python 3 (ipykernel)",
   "language": "python",
   "name": "python3"
  },
  "language_info": {
   "codemirror_mode": {
    "name": "ipython",
    "version": 3
   },
   "file_extension": ".py",
   "mimetype": "text/x-python",
   "name": "python",
   "nbconvert_exporter": "python",
   "pygments_lexer": "ipython3",
   "version": "3.11.7"
  }
 },
 "nbformat": 4,
 "nbformat_minor": 5
}
