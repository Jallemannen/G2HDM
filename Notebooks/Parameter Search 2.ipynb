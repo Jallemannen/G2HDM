{
 "cells": [
  {
   "cell_type": "code",
   "execution_count": null,
   "id": "94e2d325-1d49-4686-b405-b80e6e61cc82",
   "metadata": {},
   "outputs": [],
   "source": [
    "#import sys\n",
    "#print(sys.executable)\n",
    "#pip install jupyter symengine\n",
    "#!conda install -c conda-forge symengine"
   ]
  },
  {
   "cell_type": "markdown",
   "id": "27716f88-fcef-4add-b81c-e76fe82f73f2",
   "metadata": {},
   "source": [
    "# Parameter Search"
   ]
  },
  {
   "cell_type": "code",
   "execution_count": 1,
   "id": "15b205c3-9930-43a8-8a40-fc9e95afeb28",
   "metadata": {},
   "outputs": [],
   "source": [
    "from importing import *\n",
    "model = load_model(\"higgs\")\n",
    "\n",
    "v = 246\n",
    "ps = ParamSearch(model, name=\"ps1\", subs_VEV_values = {model.symbol(\"v\"): v})"
   ]
  },
  {
   "cell_type": "code",
   "execution_count": 2,
   "id": "37a4884e-2e54-46ac-91d9-837833a35721",
   "metadata": {},
   "outputs": [],
   "source": [
    "#ps.default_point(output=\"masses\")\n",
    "x11, x22, x1, x2, x3, x4, rx12, ix12, rx5, ix5, rx6, ix6, rx7, ix7 = sp.symbols(\"x11 x22 x1 x2 x3 x4 rx12 ix12 rx5 ix5 rx6 ix6 rx7 ix7\")\n",
    "mHp = sp.symbols(\"mHp\")\n",
    "params_relations = [-v**2/2*x1, mHp**2 - (v**2/2)*x3, x1, x2, x3, x4, v**2/2*rx6, v**2/2*rx6, rx5, ix5, rx6, ix6, rx7, ix7] + [246]\n",
    "params_free = [mHp, x1, x2, x3, x4, rx5, ix5, rx6, ix6, rx7, ix7]\n",
    "params_ranges=[(0,1000), (-4*np.pi,4*np.pi), (-4*np.pi,4*np.pi),(-4*np.pi,4*np.pi),(-4*np.pi,4*np.pi),(-4*np.pi,4*np.pi),(-4*np.pi,4*np.pi),(-4*np.pi,4*np.pi),(-4*np.pi,4*np.pi),(-4*np.pi,4*np.pi),(-4*np.pi,4*np.pi)]\n",
    "\n",
    "ps.assign_parameter_ranges(params_ranges, params_free, params_relations)"
   ]
  },
  {
   "cell_type": "markdown",
   "id": "d3dba18d-02b9-485b-bb60-1d54673421f6",
   "metadata": {},
   "source": [
    "### Parameter Search"
   ]
  },
  {
   "cell_type": "code",
   "execution_count": 3,
   "id": "a863babc-f09e-45c2-9b67-a2243e113811",
   "metadata": {},
   "outputs": [
    {
     "name": "stdout",
     "output_type": "stream",
     "text": [
      "Free parameters:  11\n",
      "Processes: 20\n",
      "Max runtime: 4h:0m:0s\n",
      "Press enter to stop the worker processes. \n",
      "\n",
      "Iterations: 22 | Runtime: 0h:0m:18s | Sec/iteration: 0.82 | Iterations/hour: 4399 |         \r"
     ]
    },
    {
     "name": "stdin",
     "output_type": "stream",
     "text": [
      " Tr\n"
     ]
    },
    {
     "name": "stdout",
     "output_type": "stream",
     "text": [
      "Thread 8 finished.\n",
      "Thread 6 finished.Thread 4 finished.\n",
      "Iterations: 25 | Runtime: 0h:0m:19s | Sec/iteration: 0.76 | Iterations/hour: 4736 |         \n",
      "Stopping...\n",
      "\n",
      "Thread 5 finished.\n",
      "Thread 2 finished.\n",
      "Thread 10 finished.Thread 3 finished.\n",
      "\n",
      "Thread 11 finished.\n",
      "Thread 19 finished.\n",
      "Thread 12 finished.\n",
      "Thread 20 finished.\n",
      "Thread 9 finished.Thread 16 finished.\n",
      "\n",
      "Thread 7 finished.\n",
      "Thread 17 finished.\n",
      "Thread 18 finished.\n",
      "Thread 15 finished.\n",
      "Thread 1 finished.\n",
      "Thread 13 finished.\n",
      "Thread 14 finished.\n",
      "All processes finished. Collecting results...\n",
      "Data saved to: /home/hjalmarh/Documents/2HDM_project/G2HDM_v1.1.0/Models/Saved_models/higgs/Data/Parameter_Search/ps1.csv \n",
      "File size on disk: 17410.00 KB\n"
     ]
    }
   ],
   "source": [
    "ps.ps_symbolic_masses(N_processes=20, runtime=4*60**2, merge=True)"
   ]
  },
  {
   "cell_type": "markdown",
   "id": "3085102e-5d7c-41f6-8101-8a3c7d331a53",
   "metadata": {},
   "source": [
    "### Plotting"
   ]
  },
  {
   "cell_type": "code",
   "execution_count": null,
   "id": "69d0b116-30ce-4dbf-848d-714db26e012e",
   "metadata": {},
   "outputs": [],
   "source": [
    "from importing import *\n",
    "model = load_model(\"higgs\")\n",
    "\n",
    "#data = model.load_data(filename=\"positive_mass_parameter_search\")\n",
    "data = model.load_data(filename=\"positive_mass1000_full_ps\")\n",
    "#display(data)\n",
    "from itertools import combinations\n",
    "import math\n",
    "\n",
    "# Generate all combinations of the data keys\n",
    "keys = [\"m_1\", \"m_2\", \"m_3\", \"m_4\", \"m_5\", \"m_6\"]\n",
    "keys = [\"m_2\", \"m_3\", \"m_4\", \"m_5\"]\n",
    "combinations_of_data = list(combinations(keys, 2))\n",
    "\n",
    "# Determine the number of rows and columns for subplots\n",
    "n_combinations = len(combinations_of_data)\n",
    "n_cols = 3  # Number of columns (adjust as needed)\n",
    "n_rows = math.ceil(n_combinations / n_cols)\n",
    "\n",
    "# Plot all combinations\n",
    "plt.figure(figsize=(5 * n_cols, 4 * n_rows))\n",
    "for i, (key_x, key_y) in enumerate(combinations_of_data):\n",
    "    plt.subplot(n_rows, n_cols, i + 1)\n",
    "    plt.xlim(0,1500)\n",
    "    plt.ylim(0,1500)\n",
    "    plt.scatter(data[key_x], data[key_y], marker=\".\")\n",
    "    plt.xlabel(key_x)\n",
    "    plt.ylabel(key_y)\n",
    "    plt.title(f'{key_x} vs {key_y}')\n",
    "    plt.grid(True)\n",
    "\n",
    "plt.tight_layout()  # Ensure layout is neat\n",
    "plt.savefig(\"ps1_full\", dpi=500)\n",
    "plt.show()"
   ]
  }
 ],
 "metadata": {
  "kernelspec": {
   "display_name": "Python 3 (ipykernel)",
   "language": "python",
   "name": "python3"
  },
  "language_info": {
   "codemirror_mode": {
    "name": "ipython",
    "version": 3
   },
   "file_extension": ".py",
   "mimetype": "text/x-python",
   "name": "python",
   "nbconvert_exporter": "python",
   "pygments_lexer": "ipython3",
   "version": "3.11.7"
  }
 },
 "nbformat": 4,
 "nbformat_minor": 5
}
