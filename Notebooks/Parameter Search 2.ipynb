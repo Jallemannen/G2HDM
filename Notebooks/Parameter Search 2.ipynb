{
 "cells": [
  {
   "cell_type": "markdown",
   "id": "27716f88-fcef-4add-b81c-e76fe82f73f2",
   "metadata": {},
   "source": [
    "# Parameter Search"
   ]
  },
  {
   "cell_type": "code",
   "execution_count": 1,
   "id": "15b205c3-9930-43a8-8a40-fc9e95afeb28",
   "metadata": {},
   "outputs": [],
   "source": [
    "from importing import *\n",
    "model = load_model(\"higgs\")\n",
    "\n",
    "v = 246\n",
    "ps = ParamSearch(model, name=\"ps1\", subs_VEV_values = {model.symbol(\"v\"): v})"
   ]
  },
  {
   "cell_type": "code",
   "execution_count": 2,
   "id": "37a4884e-2e54-46ac-91d9-837833a35721",
   "metadata": {},
   "outputs": [],
   "source": [
    "#ps.default_point(output=\"masses\")\n",
    "x11, x22, x1, x2, x3, x4, rx12, ix12, rx5, ix5, rx6, ix6, rx7, ix7 = sp.symbols(\"x11 x22 x1 x2 x3 x4 rx12 ix12 rx5 ix5 rx6 ix6 rx7 ix7\")\n",
    "mHp = sp.symbols(\"mHp\")\n",
    "params_relations = [-v**2/2*x1, mHp**2 - (v**2/2)*x3, x1, x2, x3, x4, v**2/2*rx6, v**2/2*rx6, rx5, ix5, rx6, ix6, rx7, ix7] + [246]\n",
    "params_free = [mHp, x1, x2, x3, x4, rx5, ix5, rx6, ix6, rx7, ix7]\n",
    "params_ranges=[(0,1000), (-4*np.pi,4*np.pi), (-4*np.pi,4*np.pi),(-4*np.pi,4*np.pi),(-4*np.pi,4*np.pi),(-4*np.pi,4*np.pi),(-4*np.pi,4*np.pi),(-4*np.pi,4*np.pi),(-4*np.pi,4*np.pi),(-4*np.pi,4*np.pi),(-4*np.pi,4*np.pi)]\n",
    "\n",
    "ps.assign_parameter_ranges(params_ranges, params_free, params_relations)"
   ]
  },
  {
   "cell_type": "markdown",
   "id": "d3dba18d-02b9-485b-bb60-1d54673421f6",
   "metadata": {},
   "source": [
    "### Parameter Search"
   ]
  },
  {
   "cell_type": "code",
   "execution_count": null,
   "id": "a863babc-f09e-45c2-9b67-a2243e113811",
   "metadata": {},
   "outputs": [
    {
     "name": "stdout",
     "output_type": "stream",
     "text": [
      "Free parameters:  11\n",
      "Processes: 20\n",
      "Max runtime: 8h:0m:0s\n",
      "Press enter to stop the worker processes. \n",
      "\n",
      "Iterations: 13 | Runtime: 0h:0m:54s | Sec/iteration: 4.15 | Iterations/hour: 867 |          \r"
     ]
    }
   ],
   "source": [
    "ps.ps_symbolic_masses(N_processes=20, runtime=8*60**2)"
   ]
  },
  {
   "cell_type": "code",
   "execution_count": null,
   "id": "80fa203e-2a40-43e1-9d4d-cdf3f57b8053",
   "metadata": {},
   "outputs": [],
   "source": []
  }
 ],
 "metadata": {
  "kernelspec": {
   "display_name": "Python 3 (ipykernel)",
   "language": "python",
   "name": "python3"
  },
  "language_info": {
   "codemirror_mode": {
    "name": "ipython",
    "version": 3
   },
   "file_extension": ".py",
   "mimetype": "text/x-python",
   "name": "python",
   "nbconvert_exporter": "python",
   "pygments_lexer": "ipython3",
   "version": "3.11.7"
  }
 },
 "nbformat": 4,
 "nbformat_minor": 5
}
