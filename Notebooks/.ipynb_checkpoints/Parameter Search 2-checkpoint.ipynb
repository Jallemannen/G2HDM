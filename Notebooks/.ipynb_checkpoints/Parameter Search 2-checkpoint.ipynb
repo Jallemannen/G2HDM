{
 "cells": [
  {
   "cell_type": "code",
   "execution_count": null,
   "id": "94e2d325-1d49-4686-b405-b80e6e61cc82",
   "metadata": {},
   "outputs": [],
   "source": [
    "#import sys\n",
    "#print(sys.executable)\n",
    "#pip install jupyter symengine\n",
    "#!conda install -c conda-forge symengine"
   ]
  },
  {
   "cell_type": "markdown",
   "id": "27716f88-fcef-4add-b81c-e76fe82f73f2",
   "metadata": {},
   "source": [
    "# Parameter Search"
   ]
  },
  {
   "cell_type": "code",
   "execution_count": 1,
   "id": "15b205c3-9930-43a8-8a40-fc9e95afeb28",
   "metadata": {},
   "outputs": [],
   "source": [
    "from importing import *\n",
    "model = load_model(\"higgs\")\n",
    "\n",
    "v = 246\n",
    "ps = ParamSearch(model, name=\"ps1\", subs_VEV_values = {model.symbol(\"v\"): v})"
   ]
  },
  {
   "cell_type": "code",
   "execution_count": null,
   "id": "37a4884e-2e54-46ac-91d9-837833a35721",
   "metadata": {},
   "outputs": [],
   "source": [
    "#ps.default_point(output=\"masses\")\n",
    "x11, x22, x1, x2, x3, x4, rx12, ix12, rx5, ix5, rx6, ix6, rx7, ix7 = sp.symbols(\"x11 x22 x1 x2 x3 x4 rx12 ix12 rx5 ix5 rx6 ix6 rx7 ix7\")\n",
    "mHp = sp.symbols(\"mHp\")\n",
    "params_relations = [-v**2/2*x1, mHp**2 - (v**2/2)*x3, x1, x2, x3, x4, v**2/2*rx6, v**2/2*rx6, rx5, ix5, rx6, ix6, rx7, ix7] + [246]\n",
    "params_free = [mHp, x1, x2, x3, x4, rx5, ix5, rx6, ix6, rx7, ix7]\n",
    "params_ranges=[(0,1000), (-4*np.pi,4*np.pi), (-4*np.pi,4*np.pi),(-4*np.pi,4*np.pi),(-4*np.pi,4*np.pi),(-4*np.pi,4*np.pi),(-4*np.pi,4*np.pi),(-4*np.pi,4*np.pi),(-4*np.pi,4*np.pi),(-4*np.pi,4*np.pi),(-4*np.pi,4*np.pi)]\n",
    "\n",
    "ps.assign_parameter_ranges(params_ranges, params_free, params_relations)"
   ]
  },
  {
   "cell_type": "markdown",
   "id": "d3dba18d-02b9-485b-bb60-1d54673421f6",
   "metadata": {},
   "source": [
    "### Parameter Search"
   ]
  },
  {
   "cell_type": "code",
   "execution_count": 6,
   "id": "a863babc-f09e-45c2-9b67-a2243e113811",
   "metadata": {},
   "outputs": [
    {
     "name": "stdout",
     "output_type": "stream",
     "text": [
      "Free parameters:  11\n",
      "Processes: 20\n",
      "Max runtime: 8h:0m:0s\n",
      "Press enter to stop the worker processes. \n",
      "\n",
      "Iterations: 4384 | Runtime: 4h:37m:42s | Sec/iteration: 3.80 | Iterations/hour: 947 |         \r"
     ]
    },
    {
     "name": "stdin",
     "output_type": "stream",
     "text": [
      " \n"
     ]
    },
    {
     "name": "stdout",
     "output_type": "stream",
     "text": [
      "\n",
      "Stopping...\n",
      "Thread 10 finished.\n",
      "Thread 6 finished.\n",
      "Thread 20 finished.\n",
      "Thread 11 finished.Thread 1 finished.\n",
      "\n",
      "Thread 8 finished.\n",
      "Thread 7 finished.\n",
      "Thread 9 finished.\n",
      "Thread 2 finished.\n",
      "Thread 15 finished.\n",
      "Thread 5 finished.\n",
      "Thread 14 finished.\n",
      "Thread 18 finished.\n",
      "Thread 17 finished.\n",
      "Thread 12 finished.\n",
      "Thread 4 finished.\n",
      "Thread 16 finished.\n",
      "Thread 19 finished.\n",
      "Thread 3 finished.\n",
      "Thread 13 finished.\n",
      "All processes finished. Collecting results...\n",
      "Data saved to: /home/hjalmarh/Documents/2HDM_project/G2HDM_v1.1.0/Models/Saved_models/higgs/Data/Parameter_Search/ps1.csv \n",
      "File size on disk: 2932932.00 MB\n"
     ]
    }
   ],
   "source": [
    "ps.ps_symbolic_masses(N_processes=20, runtime=4*60**2)"
   ]
  },
  {
   "cell_type": "markdown",
   "id": "3085102e-5d7c-41f6-8101-8a3c7d331a53",
   "metadata": {},
   "source": [
    "### Plotting"
   ]
  },
  {
   "cell_type": "code",
   "execution_count": null,
   "id": "69d0b116-30ce-4dbf-848d-714db26e012e",
   "metadata": {},
   "outputs": [],
   "source": [
    "from importing import *\n",
    "model = load_model(\"higgs\")\n",
    "\n",
    "#data = model.load_data(filename=\"positive_mass_parameter_search\")\n",
    "data = model.load_data(filename=\"positive_mass1000_full_ps\")\n",
    "#display(data)\n",
    "from itertools import combinations\n",
    "import math\n",
    "\n",
    "# Generate all combinations of the data keys\n",
    "keys = [\"m_1\", \"m_2\", \"m_3\", \"m_4\", \"m_5\", \"m_6\"]\n",
    "keys = [\"m_2\", \"m_3\", \"m_4\", \"m_5\"]\n",
    "combinations_of_data = list(combinations(keys, 2))\n",
    "\n",
    "# Determine the number of rows and columns for subplots\n",
    "n_combinations = len(combinations_of_data)\n",
    "n_cols = 3  # Number of columns (adjust as needed)\n",
    "n_rows = math.ceil(n_combinations / n_cols)\n",
    "\n",
    "# Plot all combinations\n",
    "plt.figure(figsize=(5 * n_cols, 4 * n_rows))\n",
    "for i, (key_x, key_y) in enumerate(combinations_of_data):\n",
    "    plt.subplot(n_rows, n_cols, i + 1)\n",
    "    plt.xlim(0,1500)\n",
    "    plt.ylim(0,1500)\n",
    "    plt.scatter(data[key_x], data[key_y], marker=\".\")\n",
    "    plt.xlabel(key_x)\n",
    "    plt.ylabel(key_y)\n",
    "    plt.title(f'{key_x} vs {key_y}')\n",
    "    plt.grid(True)\n",
    "\n",
    "plt.tight_layout()  # Ensure layout is neat\n",
    "plt.savefig(\"ps1_full\", dpi=500)\n",
    "plt.show()"
   ]
  },
  {
   "cell_type": "code",
   "execution_count": 8,
   "id": "c1cfd40e-662e-4b3e-922f-8e551d345649",
   "metadata": {},
   "outputs": [
    {
     "name": "stdout",
     "output_type": "stream",
     "text": [
      "Defaulting to user installation because normal site-packages is not writeable\n",
      "Requirement already satisfied: symengine in /home/hjalmarh/.local/lib/python3.11/site-packages (0.14.0)\n"
     ]
    }
   ],
   "source": [
    "!pip install symengine"
   ]
  },
  {
   "cell_type": "code",
   "execution_count": 13,
   "id": "5e532e7a-bd81-4c18-8d28-26389533413d",
   "metadata": {},
   "outputs": [
    {
     "name": "stdout",
     "output_type": "stream",
     "text": [
      "Defaulting to user installation because normal site-packages is not writeable\n",
      "Requirement already satisfied: jupyter in /sw/easybuild_milan/software/Anaconda3/2024.02-1/lib/python3.11/site-packages (1.0.0)\n",
      "Requirement already satisfied: symengine in /home/hjalmarh/.local/lib/python3.11/site-packages (0.14.0)\n",
      "Requirement already satisfied: notebook in /sw/easybuild_milan/software/Anaconda3/2024.02-1/lib/python3.11/site-packages (from jupyter) (7.0.8)\n",
      "Requirement already satisfied: qtconsole in /sw/easybuild_milan/software/Anaconda3/2024.02-1/lib/python3.11/site-packages (from jupyter) (5.4.2)\n",
      "Requirement already satisfied: jupyter-console in /sw/easybuild_milan/software/Anaconda3/2024.02-1/lib/python3.11/site-packages (from jupyter) (6.6.3)\n",
      "Requirement already satisfied: nbconvert in /sw/easybuild_milan/software/Anaconda3/2024.02-1/lib/python3.11/site-packages (from jupyter) (7.10.0)\n",
      "Requirement already satisfied: ipykernel in /sw/easybuild_milan/software/Anaconda3/2024.02-1/lib/python3.11/site-packages (from jupyter) (6.28.0)\n",
      "Requirement already satisfied: ipywidgets in /sw/easybuild_milan/software/Anaconda3/2024.02-1/lib/python3.11/site-packages (from jupyter) (7.6.5)\n",
      "Requirement already satisfied: comm>=0.1.1 in /sw/easybuild_milan/software/Anaconda3/2024.02-1/lib/python3.11/site-packages (from ipykernel->jupyter) (0.1.2)\n",
      "Requirement already satisfied: debugpy>=1.6.5 in /sw/easybuild_milan/software/Anaconda3/2024.02-1/lib/python3.11/site-packages (from ipykernel->jupyter) (1.6.7)\n",
      "Requirement already satisfied: ipython>=7.23.1 in /sw/easybuild_milan/software/Anaconda3/2024.02-1/lib/python3.11/site-packages (from ipykernel->jupyter) (8.20.0)\n",
      "Requirement already satisfied: jupyter-client>=6.1.12 in /sw/easybuild_milan/software/Anaconda3/2024.02-1/lib/python3.11/site-packages (from ipykernel->jupyter) (8.6.0)\n",
      "Requirement already satisfied: jupyter-core!=5.0.*,>=4.12 in /sw/easybuild_milan/software/Anaconda3/2024.02-1/lib/python3.11/site-packages (from ipykernel->jupyter) (5.5.0)\n",
      "Requirement already satisfied: matplotlib-inline>=0.1 in /sw/easybuild_milan/software/Anaconda3/2024.02-1/lib/python3.11/site-packages (from ipykernel->jupyter) (0.1.6)\n",
      "Requirement already satisfied: nest-asyncio in /sw/easybuild_milan/software/Anaconda3/2024.02-1/lib/python3.11/site-packages (from ipykernel->jupyter) (1.6.0)\n",
      "Requirement already satisfied: packaging in /sw/easybuild_milan/software/Anaconda3/2024.02-1/lib/python3.11/site-packages (from ipykernel->jupyter) (23.1)\n",
      "Requirement already satisfied: psutil in /sw/easybuild_milan/software/Anaconda3/2024.02-1/lib/python3.11/site-packages (from ipykernel->jupyter) (5.9.0)\n",
      "Requirement already satisfied: pyzmq>=24 in /sw/easybuild_milan/software/Anaconda3/2024.02-1/lib/python3.11/site-packages (from ipykernel->jupyter) (25.1.2)\n",
      "Requirement already satisfied: tornado>=6.1 in /sw/easybuild_milan/software/Anaconda3/2024.02-1/lib/python3.11/site-packages (from ipykernel->jupyter) (6.3.3)\n",
      "Requirement already satisfied: traitlets>=5.4.0 in /sw/easybuild_milan/software/Anaconda3/2024.02-1/lib/python3.11/site-packages (from ipykernel->jupyter) (5.7.1)\n",
      "Requirement already satisfied: ipython-genutils~=0.2.0 in /sw/easybuild_milan/software/Anaconda3/2024.02-1/lib/python3.11/site-packages (from ipywidgets->jupyter) (0.2.0)\n",
      "Requirement already satisfied: nbformat>=4.2.0 in /sw/easybuild_milan/software/Anaconda3/2024.02-1/lib/python3.11/site-packages (from ipywidgets->jupyter) (5.9.2)\n",
      "Requirement already satisfied: widgetsnbextension~=3.5.0 in /sw/easybuild_milan/software/Anaconda3/2024.02-1/lib/python3.11/site-packages (from ipywidgets->jupyter) (3.5.2)\n",
      "Requirement already satisfied: jupyterlab-widgets>=1.0.0 in /sw/easybuild_milan/software/Anaconda3/2024.02-1/lib/python3.11/site-packages (from ipywidgets->jupyter) (3.0.9)\n",
      "Requirement already satisfied: prompt-toolkit>=3.0.30 in /sw/easybuild_milan/software/Anaconda3/2024.02-1/lib/python3.11/site-packages (from jupyter-console->jupyter) (3.0.43)\n",
      "Requirement already satisfied: pygments in /sw/easybuild_milan/software/Anaconda3/2024.02-1/lib/python3.11/site-packages (from jupyter-console->jupyter) (2.15.1)\n",
      "Requirement already satisfied: beautifulsoup4 in /sw/easybuild_milan/software/Anaconda3/2024.02-1/lib/python3.11/site-packages (from nbconvert->jupyter) (4.12.2)\n",
      "Requirement already satisfied: bleach!=5.0.0 in /sw/easybuild_milan/software/Anaconda3/2024.02-1/lib/python3.11/site-packages (from nbconvert->jupyter) (4.1.0)\n",
      "Requirement already satisfied: defusedxml in /sw/easybuild_milan/software/Anaconda3/2024.02-1/lib/python3.11/site-packages (from nbconvert->jupyter) (0.7.1)\n",
      "Requirement already satisfied: jinja2>=3.0 in /sw/easybuild_milan/software/Anaconda3/2024.02-1/lib/python3.11/site-packages (from nbconvert->jupyter) (3.1.3)\n",
      "Requirement already satisfied: jupyterlab-pygments in /sw/easybuild_milan/software/Anaconda3/2024.02-1/lib/python3.11/site-packages (from nbconvert->jupyter) (0.1.2)\n",
      "Requirement already satisfied: markupsafe>=2.0 in /sw/easybuild_milan/software/Anaconda3/2024.02-1/lib/python3.11/site-packages (from nbconvert->jupyter) (2.1.3)\n",
      "Requirement already satisfied: mistune<4,>=2.0.3 in /sw/easybuild_milan/software/Anaconda3/2024.02-1/lib/python3.11/site-packages (from nbconvert->jupyter) (2.0.4)\n",
      "Requirement already satisfied: nbclient>=0.5.0 in /sw/easybuild_milan/software/Anaconda3/2024.02-1/lib/python3.11/site-packages (from nbconvert->jupyter) (0.8.0)\n",
      "Requirement already satisfied: pandocfilters>=1.4.1 in /sw/easybuild_milan/software/Anaconda3/2024.02-1/lib/python3.11/site-packages (from nbconvert->jupyter) (1.5.0)\n",
      "Requirement already satisfied: tinycss2 in /sw/easybuild_milan/software/Anaconda3/2024.02-1/lib/python3.11/site-packages (from nbconvert->jupyter) (1.2.1)\n",
      "Requirement already satisfied: jupyter-server<3,>=2.4.0 in /sw/easybuild_milan/software/Anaconda3/2024.02-1/lib/python3.11/site-packages (from notebook->jupyter) (2.10.0)\n",
      "Requirement already satisfied: jupyterlab-server<3,>=2.22.1 in /sw/easybuild_milan/software/Anaconda3/2024.02-1/lib/python3.11/site-packages (from notebook->jupyter) (2.25.1)\n",
      "Requirement already satisfied: jupyterlab<4.1,>=4.0.2 in /sw/easybuild_milan/software/Anaconda3/2024.02-1/lib/python3.11/site-packages (from notebook->jupyter) (4.0.11)\n",
      "Requirement already satisfied: notebook-shim<0.3,>=0.2 in /sw/easybuild_milan/software/Anaconda3/2024.02-1/lib/python3.11/site-packages (from notebook->jupyter) (0.2.3)\n",
      "Requirement already satisfied: qtpy>=2.0.1 in /sw/easybuild_milan/software/Anaconda3/2024.02-1/lib/python3.11/site-packages (from qtconsole->jupyter) (2.4.1)\n",
      "Requirement already satisfied: six>=1.9.0 in /sw/easybuild_milan/software/Anaconda3/2024.02-1/lib/python3.11/site-packages (from bleach!=5.0.0->nbconvert->jupyter) (1.16.0)\n",
      "Requirement already satisfied: webencodings in /sw/easybuild_milan/software/Anaconda3/2024.02-1/lib/python3.11/site-packages (from bleach!=5.0.0->nbconvert->jupyter) (0.5.1)\n",
      "Requirement already satisfied: decorator in /sw/easybuild_milan/software/Anaconda3/2024.02-1/lib/python3.11/site-packages (from ipython>=7.23.1->ipykernel->jupyter) (5.1.1)\n",
      "Requirement already satisfied: jedi>=0.16 in /sw/easybuild_milan/software/Anaconda3/2024.02-1/lib/python3.11/site-packages (from ipython>=7.23.1->ipykernel->jupyter) (0.18.1)\n",
      "Requirement already satisfied: stack-data in /sw/easybuild_milan/software/Anaconda3/2024.02-1/lib/python3.11/site-packages (from ipython>=7.23.1->ipykernel->jupyter) (0.2.0)\n",
      "Requirement already satisfied: pexpect>4.3 in /sw/easybuild_milan/software/Anaconda3/2024.02-1/lib/python3.11/site-packages (from ipython>=7.23.1->ipykernel->jupyter) (4.8.0)\n",
      "Requirement already satisfied: python-dateutil>=2.8.2 in /sw/easybuild_milan/software/Anaconda3/2024.02-1/lib/python3.11/site-packages (from jupyter-client>=6.1.12->ipykernel->jupyter) (2.8.2)\n",
      "Requirement already satisfied: platformdirs>=2.5 in /sw/easybuild_milan/software/Anaconda3/2024.02-1/lib/python3.11/site-packages (from jupyter-core!=5.0.*,>=4.12->ipykernel->jupyter) (3.10.0)\n",
      "Requirement already satisfied: anyio>=3.1.0 in /sw/easybuild_milan/software/Anaconda3/2024.02-1/lib/python3.11/site-packages (from jupyter-server<3,>=2.4.0->notebook->jupyter) (4.2.0)\n",
      "Requirement already satisfied: argon2-cffi in /sw/easybuild_milan/software/Anaconda3/2024.02-1/lib/python3.11/site-packages (from jupyter-server<3,>=2.4.0->notebook->jupyter) (21.3.0)\n",
      "Requirement already satisfied: jupyter-events>=0.6.0 in /sw/easybuild_milan/software/Anaconda3/2024.02-1/lib/python3.11/site-packages (from jupyter-server<3,>=2.4.0->notebook->jupyter) (0.8.0)\n",
      "Requirement already satisfied: jupyter-server-terminals in /sw/easybuild_milan/software/Anaconda3/2024.02-1/lib/python3.11/site-packages (from jupyter-server<3,>=2.4.0->notebook->jupyter) (0.4.4)\n",
      "Requirement already satisfied: overrides in /sw/easybuild_milan/software/Anaconda3/2024.02-1/lib/python3.11/site-packages (from jupyter-server<3,>=2.4.0->notebook->jupyter) (7.4.0)\n",
      "Requirement already satisfied: prometheus-client in /sw/easybuild_milan/software/Anaconda3/2024.02-1/lib/python3.11/site-packages (from jupyter-server<3,>=2.4.0->notebook->jupyter) (0.14.1)\n",
      "Requirement already satisfied: send2trash>=1.8.2 in /sw/easybuild_milan/software/Anaconda3/2024.02-1/lib/python3.11/site-packages (from jupyter-server<3,>=2.4.0->notebook->jupyter) (1.8.2)\n",
      "Requirement already satisfied: terminado>=0.8.3 in /sw/easybuild_milan/software/Anaconda3/2024.02-1/lib/python3.11/site-packages (from jupyter-server<3,>=2.4.0->notebook->jupyter) (0.17.1)\n",
      "Requirement already satisfied: websocket-client in /sw/easybuild_milan/software/Anaconda3/2024.02-1/lib/python3.11/site-packages (from jupyter-server<3,>=2.4.0->notebook->jupyter) (0.58.0)\n",
      "Requirement already satisfied: async-lru>=1.0.0 in /sw/easybuild_milan/software/Anaconda3/2024.02-1/lib/python3.11/site-packages (from jupyterlab<4.1,>=4.0.2->notebook->jupyter) (2.0.4)\n",
      "Requirement already satisfied: jupyter-lsp>=2.0.0 in /sw/easybuild_milan/software/Anaconda3/2024.02-1/lib/python3.11/site-packages (from jupyterlab<4.1,>=4.0.2->notebook->jupyter) (2.2.0)\n",
      "Requirement already satisfied: babel>=2.10 in /sw/easybuild_milan/software/Anaconda3/2024.02-1/lib/python3.11/site-packages (from jupyterlab-server<3,>=2.22.1->notebook->jupyter) (2.11.0)\n",
      "Requirement already satisfied: json5>=0.9.0 in /sw/easybuild_milan/software/Anaconda3/2024.02-1/lib/python3.11/site-packages (from jupyterlab-server<3,>=2.22.1->notebook->jupyter) (0.9.6)\n",
      "Requirement already satisfied: jsonschema>=4.18.0 in /sw/easybuild_milan/software/Anaconda3/2024.02-1/lib/python3.11/site-packages (from jupyterlab-server<3,>=2.22.1->notebook->jupyter) (4.19.2)\n",
      "Requirement already satisfied: requests>=2.31 in /sw/easybuild_milan/software/Anaconda3/2024.02-1/lib/python3.11/site-packages (from jupyterlab-server<3,>=2.22.1->notebook->jupyter) (2.31.0)\n",
      "Requirement already satisfied: fastjsonschema in /sw/easybuild_milan/software/Anaconda3/2024.02-1/lib/python3.11/site-packages (from nbformat>=4.2.0->ipywidgets->jupyter) (2.16.2)\n",
      "Requirement already satisfied: wcwidth in /sw/easybuild_milan/software/Anaconda3/2024.02-1/lib/python3.11/site-packages (from prompt-toolkit>=3.0.30->jupyter-console->jupyter) (0.2.5)\n",
      "Requirement already satisfied: soupsieve>1.2 in /sw/easybuild_milan/software/Anaconda3/2024.02-1/lib/python3.11/site-packages (from beautifulsoup4->nbconvert->jupyter) (2.5)\n",
      "Requirement already satisfied: idna>=2.8 in /sw/easybuild_milan/software/Anaconda3/2024.02-1/lib/python3.11/site-packages (from anyio>=3.1.0->jupyter-server<3,>=2.4.0->notebook->jupyter) (3.4)\n",
      "Requirement already satisfied: sniffio>=1.1 in /sw/easybuild_milan/software/Anaconda3/2024.02-1/lib/python3.11/site-packages (from anyio>=3.1.0->jupyter-server<3,>=2.4.0->notebook->jupyter) (1.3.0)\n",
      "Requirement already satisfied: pytz>=2015.7 in /sw/easybuild_milan/software/Anaconda3/2024.02-1/lib/python3.11/site-packages (from babel>=2.10->jupyterlab-server<3,>=2.22.1->notebook->jupyter) (2023.3.post1)\n",
      "Requirement already satisfied: parso<0.9.0,>=0.8.0 in /sw/easybuild_milan/software/Anaconda3/2024.02-1/lib/python3.11/site-packages (from jedi>=0.16->ipython>=7.23.1->ipykernel->jupyter) (0.8.3)\n",
      "Requirement already satisfied: attrs>=22.2.0 in /sw/easybuild_milan/software/Anaconda3/2024.02-1/lib/python3.11/site-packages (from jsonschema>=4.18.0->jupyterlab-server<3,>=2.22.1->notebook->jupyter) (23.1.0)\n",
      "Requirement already satisfied: jsonschema-specifications>=2023.03.6 in /sw/easybuild_milan/software/Anaconda3/2024.02-1/lib/python3.11/site-packages (from jsonschema>=4.18.0->jupyterlab-server<3,>=2.22.1->notebook->jupyter) (2023.7.1)\n",
      "Requirement already satisfied: referencing>=0.28.4 in /sw/easybuild_milan/software/Anaconda3/2024.02-1/lib/python3.11/site-packages (from jsonschema>=4.18.0->jupyterlab-server<3,>=2.22.1->notebook->jupyter) (0.30.2)\n",
      "Requirement already satisfied: rpds-py>=0.7.1 in /sw/easybuild_milan/software/Anaconda3/2024.02-1/lib/python3.11/site-packages (from jsonschema>=4.18.0->jupyterlab-server<3,>=2.22.1->notebook->jupyter) (0.10.6)\n",
      "Requirement already satisfied: python-json-logger>=2.0.4 in /sw/easybuild_milan/software/Anaconda3/2024.02-1/lib/python3.11/site-packages (from jupyter-events>=0.6.0->jupyter-server<3,>=2.4.0->notebook->jupyter) (2.0.7)\n",
      "Requirement already satisfied: pyyaml>=5.3 in /sw/easybuild_milan/software/Anaconda3/2024.02-1/lib/python3.11/site-packages (from jupyter-events>=0.6.0->jupyter-server<3,>=2.4.0->notebook->jupyter) (6.0.1)\n",
      "Requirement already satisfied: rfc3339-validator in /sw/easybuild_milan/software/Anaconda3/2024.02-1/lib/python3.11/site-packages (from jupyter-events>=0.6.0->jupyter-server<3,>=2.4.0->notebook->jupyter) (0.1.4)\n",
      "Requirement already satisfied: rfc3986-validator>=0.1.1 in /sw/easybuild_milan/software/Anaconda3/2024.02-1/lib/python3.11/site-packages (from jupyter-events>=0.6.0->jupyter-server<3,>=2.4.0->notebook->jupyter) (0.1.1)\n",
      "Requirement already satisfied: ptyprocess>=0.5 in /sw/easybuild_milan/software/Anaconda3/2024.02-1/lib/python3.11/site-packages (from pexpect>4.3->ipython>=7.23.1->ipykernel->jupyter) (0.7.0)\n",
      "Requirement already satisfied: charset-normalizer<4,>=2 in /sw/easybuild_milan/software/Anaconda3/2024.02-1/lib/python3.11/site-packages (from requests>=2.31->jupyterlab-server<3,>=2.22.1->notebook->jupyter) (2.0.4)\n",
      "Requirement already satisfied: urllib3<3,>=1.21.1 in /sw/easybuild_milan/software/Anaconda3/2024.02-1/lib/python3.11/site-packages (from requests>=2.31->jupyterlab-server<3,>=2.22.1->notebook->jupyter) (2.0.7)\n",
      "Requirement already satisfied: certifi>=2017.4.17 in /sw/easybuild_milan/software/Anaconda3/2024.02-1/lib/python3.11/site-packages (from requests>=2.31->jupyterlab-server<3,>=2.22.1->notebook->jupyter) (2024.2.2)\n",
      "Requirement already satisfied: argon2-cffi-bindings in /sw/easybuild_milan/software/Anaconda3/2024.02-1/lib/python3.11/site-packages (from argon2-cffi->jupyter-server<3,>=2.4.0->notebook->jupyter) (21.2.0)\n",
      "Requirement already satisfied: executing in /sw/easybuild_milan/software/Anaconda3/2024.02-1/lib/python3.11/site-packages (from stack-data->ipython>=7.23.1->ipykernel->jupyter) (0.8.3)\n",
      "Requirement already satisfied: asttokens in /sw/easybuild_milan/software/Anaconda3/2024.02-1/lib/python3.11/site-packages (from stack-data->ipython>=7.23.1->ipykernel->jupyter) (2.0.5)\n",
      "Requirement already satisfied: pure-eval in /sw/easybuild_milan/software/Anaconda3/2024.02-1/lib/python3.11/site-packages (from stack-data->ipython>=7.23.1->ipykernel->jupyter) (0.2.2)\n",
      "Collecting fqdn (from jsonschema[format-nongpl]>=4.18.0->jupyter-events>=0.6.0->jupyter-server<3,>=2.4.0->notebook->jupyter)\n",
      "  Using cached fqdn-1.5.1-py3-none-any.whl.metadata (1.4 kB)\n",
      "Collecting isoduration (from jsonschema[format-nongpl]>=4.18.0->jupyter-events>=0.6.0->jupyter-server<3,>=2.4.0->notebook->jupyter)\n",
      "  Using cached isoduration-20.11.0-py3-none-any.whl.metadata (5.7 kB)\n",
      "Requirement already satisfied: jsonpointer>1.13 in /sw/easybuild_milan/software/Anaconda3/2024.02-1/lib/python3.11/site-packages (from jsonschema[format-nongpl]>=4.18.0->jupyter-events>=0.6.0->jupyter-server<3,>=2.4.0->notebook->jupyter) (2.1)\n",
      "Collecting uri-template (from jsonschema[format-nongpl]>=4.18.0->jupyter-events>=0.6.0->jupyter-server<3,>=2.4.0->notebook->jupyter)\n",
      "  Using cached uri_template-1.3.0-py3-none-any.whl.metadata (8.8 kB)\n",
      "Collecting webcolors>=1.11 (from jsonschema[format-nongpl]>=4.18.0->jupyter-events>=0.6.0->jupyter-server<3,>=2.4.0->notebook->jupyter)\n",
      "  Using cached webcolors-24.11.1-py3-none-any.whl.metadata (2.2 kB)\n",
      "Requirement already satisfied: cffi>=1.0.1 in /sw/easybuild_milan/software/Anaconda3/2024.02-1/lib/python3.11/site-packages (from argon2-cffi-bindings->argon2-cffi->jupyter-server<3,>=2.4.0->notebook->jupyter) (1.16.0)\n",
      "Requirement already satisfied: pycparser in /sw/easybuild_milan/software/Anaconda3/2024.02-1/lib/python3.11/site-packages (from cffi>=1.0.1->argon2-cffi-bindings->argon2-cffi->jupyter-server<3,>=2.4.0->notebook->jupyter) (2.21)\n",
      "Requirement already satisfied: arrow>=0.15.0 in /sw/easybuild_milan/software/Anaconda3/2024.02-1/lib/python3.11/site-packages (from isoduration->jsonschema[format-nongpl]>=4.18.0->jupyter-events>=0.6.0->jupyter-server<3,>=2.4.0->notebook->jupyter) (1.2.3)\n",
      "Using cached webcolors-24.11.1-py3-none-any.whl (14 kB)\n",
      "Using cached fqdn-1.5.1-py3-none-any.whl (9.1 kB)\n",
      "Using cached isoduration-20.11.0-py3-none-any.whl (11 kB)\n",
      "Using cached uri_template-1.3.0-py3-none-any.whl (11 kB)\n",
      "Installing collected packages: webcolors, uri-template, fqdn, isoduration\n",
      "Successfully installed fqdn-1.5.1 isoduration-20.11.0 uri-template-1.3.0 webcolors-24.11.1\n",
      "Note: you may need to restart the kernel to use updated packages.\n"
     ]
    }
   ],
   "source": []
  },
  {
   "cell_type": "code",
   "execution_count": 12,
   "id": "a329cac5-1151-4fa0-80e8-ab26a58cf9b2",
   "metadata": {},
   "outputs": [
    {
     "name": "stdout",
     "output_type": "stream",
     "text": [
      "Channels:\n",
      " - conda-forge\n",
      " - bioconda\n",
      " - nodefaults\n",
      " - defaults\n",
      "Platform: linux-64\n",
      "Collecting package metadata (repodata.json): done\n",
      "Solving environment: done\n",
      "\n",
      "## Package Plan ##\n",
      "\n",
      "  environment location: /sw/easybuild_milan/software/Anaconda3/2024.02-1\n",
      "\n",
      "  added / updated specs:\n",
      "    - symengine\n",
      "\n",
      "\n",
      "The following packages will be downloaded:\n",
      "\n",
      "    package                    |            build\n",
      "    ---------------------------|-----------------\n",
      "    _libgcc_mutex-0.1          |      conda_forge           3 KB  conda-forge\n",
      "    _openmp_mutex-4.5          |            2_gnu          23 KB  conda-forge\n",
      "    ca-certificates-2025.1.31  |       hbcca054_0         154 KB  conda-forge\n",
      "    certifi-2025.1.31          |     pyhd8ed1ab_0         159 KB  conda-forge\n",
      "    conda-24.1.2               |  py311h38be061_0         1.2 MB  conda-forge\n",
      "    gf2x-1.3.0                 |       h55551d5_3          61 KB  conda-forge\n",
      "    gmp-6.3.0                  |       hac33072_2         449 KB  conda-forge\n",
      "    libflint-2.9.0             | h2f819a4_ntl_100        16.0 MB  conda-forge\n",
      "    libgcc-14.2.0              |       h77fa898_1         829 KB  conda-forge\n",
      "    libgcc-ng-14.2.0           |       h69a702a_1          53 KB  conda-forge\n",
      "    libgomp-14.2.0             |       h77fa898_1         450 KB  conda-forge\n",
      "    libstdcxx-14.2.0           |       hc0a3c3a_1         3.7 MB  conda-forge\n",
      "    libstdcxx-ng-14.2.0        |       h4852527_1          53 KB  conda-forge\n",
      "    libzlib-1.2.13             |       h4ab18f5_6          60 KB  conda-forge\n",
      "    mpc-1.3.1                  |       h24ddda3_1         114 KB  conda-forge\n",
      "    mpfr-4.2.1                 |       h90cbb55_3         620 KB  conda-forge\n",
      "    ntl-11.4.3                 |       hef3c4d3_1        21.2 MB  conda-forge\n",
      "    numba-0.59.1               |  py311h96b013e_0         5.5 MB  conda-forge\n",
      "    openssl-3.4.1              |       h7b32b05_0         2.8 MB  conda-forge\n",
      "    python_abi-3.11            |          2_cp311           5 KB  conda-forge\n",
      "    symengine-0.11.2           |       h38c2413_1        13.8 MB  conda-forge\n",
      "    zlib-1.2.13                |       h4ab18f5_6          91 KB  conda-forge\n",
      "    ------------------------------------------------------------\n",
      "                                           Total:        67.2 MB\n",
      "\n",
      "The following NEW packages will be INSTALLED:\n",
      "\n",
      "  gf2x               conda-forge/linux-64::gf2x-1.3.0-h55551d5_3 \n",
      "  libflint           conda-forge/linux-64::libflint-2.9.0-h2f819a4_ntl_100 \n",
      "  libgcc             conda-forge/linux-64::libgcc-14.2.0-h77fa898_1 \n",
      "  libstdcxx          conda-forge/linux-64::libstdcxx-14.2.0-hc0a3c3a_1 \n",
      "  libzlib            conda-forge/linux-64::libzlib-1.2.13-h4ab18f5_6 \n",
      "  ntl                conda-forge/linux-64::ntl-11.4.3-hef3c4d3_1 \n",
      "  python_abi         conda-forge/linux-64::python_abi-3.11-2_cp311 \n",
      "  symengine          conda-forge/linux-64::symengine-0.11.2-h38c2413_1 \n",
      "\n",
      "The following packages will be UPDATED:\n",
      "\n",
      "  ca-certificates    pkgs/main::ca-certificates-2023.12.12~ --> conda-forge::ca-certificates-2025.1.31-hbcca054_0 \n",
      "  certifi            pkgs/main/linux-64::certifi-2024.2.2-~ --> conda-forge/noarch::certifi-2025.1.31-pyhd8ed1ab_0 \n",
      "  gmp                       pkgs/main::gmp-6.2.1-h295c915_3 --> conda-forge::gmp-6.3.0-hac33072_2 \n",
      "  libgcc-ng          pkgs/main::libgcc-ng-11.2.0-h1234567_1 --> conda-forge::libgcc-ng-14.2.0-h69a702a_1 \n",
      "  libgomp              pkgs/main::libgomp-11.2.0-h1234567_1 --> conda-forge::libgomp-14.2.0-h77fa898_1 \n",
      "  libstdcxx-ng       pkgs/main::libstdcxx-ng-11.2.0-h12345~ --> conda-forge::libstdcxx-ng-14.2.0-h4852527_1 \n",
      "  mpc                       pkgs/main::mpc-1.1.0-h10f8cd9_1 --> conda-forge::mpc-1.3.1-h24ddda3_1 \n",
      "  mpfr                     pkgs/main::mpfr-4.0.2-hb69a4c5_1 --> conda-forge::mpfr-4.2.1-h90cbb55_3 \n",
      "  numba              pkgs/main::numba-0.59.0-py311ha02d727~ --> conda-forge::numba-0.59.1-py311h96b013e_0 \n",
      "  openssl              pkgs/main::openssl-3.0.13-h7f8727e_0 --> conda-forge::openssl-3.4.1-h7b32b05_0 \n",
      "  zlib                    pkgs/main::zlib-1.2.13-h5eee18b_0 --> conda-forge::zlib-1.2.13-h4ab18f5_6 \n",
      "\n",
      "The following packages will be SUPERSEDED by a higher-priority channel:\n",
      "\n",
      "  _libgcc_mutex           pkgs/main::_libgcc_mutex-0.1-main --> conda-forge::_libgcc_mutex-0.1-conda_forge \n",
      "  _openmp_mutex          pkgs/main::_openmp_mutex-5.1-1_gnu --> conda-forge::_openmp_mutex-4.5-2_gnu \n",
      "  conda              pkgs/main::conda-24.1.2-py311h06a4308~ --> conda-forge::conda-24.1.2-py311h38be061_0 \n",
      "\n",
      "\n",
      "Proceed ([y]/n)? ^C\n",
      "\n",
      "CondaSystemExit: \n",
      "Operation aborted.  Exiting.\n",
      "\n"
     ]
    }
   ],
   "source": [
    "!conda install -c conda-forge symengine"
   ]
  },
  {
   "cell_type": "code",
   "execution_count": null,
   "id": "d640da30-e0c5-4f3b-844e-46f86e53fb5f",
   "metadata": {},
   "outputs": [],
   "source": []
  }
 ],
 "metadata": {
  "kernelspec": {
   "display_name": "Python 3 (ipykernel)",
   "language": "python",
   "name": "python3"
  },
  "language_info": {
   "codemirror_mode": {
    "name": "ipython",
    "version": 3
   },
   "file_extension": ".py",
   "mimetype": "text/x-python",
   "name": "python",
   "nbconvert_exporter": "python",
   "pygments_lexer": "ipython3",
   "version": "3.11.7"
  }
 },
 "nbformat": 4,
 "nbformat_minor": 5
}
