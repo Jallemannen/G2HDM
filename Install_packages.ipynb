{
 "cells": [
  {
   "cell_type": "markdown",
   "metadata": {},
   "source": [
    "# Install packages manually using pip"
   ]
  },
  {
   "cell_type": "code",
   "execution_count": null,
   "metadata": {},
   "outputs": [
    {
     "name": "stdout",
     "output_type": "stream",
     "text": [
      "Collecting symengine\n",
      "  Using cached symengine-0.14.0-cp39-cp39-manylinux_2_17_x86_64.manylinux2014_x86_64.whl.metadata (1.3 kB)\n",
      "Using cached symengine-0.14.0-cp39-cp39-manylinux_2_17_x86_64.manylinux2014_x86_64.whl (50.3 MB)\n",
      "Installing collected packages: symengine\n",
      "  Attempting uninstall: symengine\n",
      "    Found existing installation: symengine 0.14.0\n",
      "    Uninstalling symengine-0.14.0:\n",
      "      Successfully uninstalled symengine-0.14.0\n",
      "Successfully installed symengine-0.14.0\n"
     ]
    },
    {
     "name": "stderr",
     "output_type": "stream",
     "text": [
      "\n",
      "\u001b[1m[\u001b[0m\u001b[34;49mnotice\u001b[0m\u001b[1;39;49m]\u001b[0m\u001b[39;49m A new release of pip is available: \u001b[0m\u001b[31;49m24.3.1\u001b[0m\u001b[39;49m -> \u001b[0m\u001b[32;49m25.0.1\u001b[0m\n",
      "\u001b[1m[\u001b[0m\u001b[34;49mnotice\u001b[0m\u001b[1;39;49m]\u001b[0m\u001b[39;49m To update, run: \u001b[0m\u001b[32;49mpip install --upgrade pip\u001b[0m\n"
     ]
    },
    {
     "data": {
      "text/plain": [
       "0"
      ]
     },
     "execution_count": 3,
     "metadata": {},
     "output_type": "execute_result"
    }
   ],
   "source": [
    "import subprocess\n",
    "import sys\n",
    "\n",
    "### update pip\n",
    "#subprocess.check_call([sys.executable, \"-m\", \"pip\", \"install\",  \"--upgrade\", \"pip\"])\n",
    "\n",
    "### dill\n",
    "#subprocess.check_call([sys.executable, \"-m\", \"pip\", \"install\", \"dill\"])\n",
    "\n",
    "### sympy\n",
    "#subprocess.check_call([sys.executable, \"-m\", \"pip\", \"install\", \"sympy\"])\n",
    "\n",
    "### numpy\n",
    "#subprocess.check_call([sys.executable, \"-m\", \"pip\", \"install\", \"numpy\"])\n",
    "\n",
    "### matplotlib\n",
    "#subprocess.check_call([sys.executable, \"-m\", \"pip\", \"install\", \"matplotlib\"])\n",
    "\n",
    "### IPython\n",
    "#subprocess.check_call([sys.executable, \"-m\", \"pip\", \"install\", \"IPython\"])\n",
    "\n",
    "### ipympl\n",
    "#subprocess.check_call([sys.executable, \"-m\", \"pip\", \"install\", \"ipympl\"])\n",
    "\n",
    "### scipy\n",
    "#subprocess.check_call([sys.executable, \"-m\", \"pip\", \"install\", \"scipy\"])\n",
    "\n",
    "### pandas\n",
    "#subprocess.check_call([sys.executable, \"-m\", \"pip\", \"install\", \"pandas\"])\n",
    "\n",
    "### jupyter widgets\n",
    "#subprocess.check_call([sys.executable, \"-m\", \"pip\", \"install\", \"notebook\", \"ipywidgets\"])\n",
    "#subprocess.check_call([sys.executable, \"-m\", \"pip\", \"install\", \"ipywidgets\"])\n",
    "#subprocess.check_call([sys.executable, \"-m\", \"pip\", \"install\", \"--upgrade\", \"ipywidgets\"])\n",
    "#subprocess.check_call([sys.executable, \"-m\", \"pip\", \"install\", \"--upgrade\", \"ipywidgets\"])\n",
    "\n",
    "### numba\n",
    "#subprocess.check_call([sys.executable, \"-m\", \"pip\", \"install\", \"numba\"])\n",
    "\n",
    "### PyInstaller\n",
    "#subprocess.check_call([sys.executable, \"-m\", \"pip\", \"install\", \"PyInstaller\"])\n",
    "\n",
    "### SymEngine\n",
    "#subprocess.check_call([sys.executable, \"-m\", \"pip\", \"install\", \"symengine\"])\n"
   ]
  },
  {
   "cell_type": "markdown",
   "metadata": {},
   "source": [
    "## Check verisons"
   ]
  },
  {
   "cell_type": "code",
   "execution_count": 1,
   "metadata": {},
   "outputs": [
    {
     "name": "stdout",
     "output_type": "stream",
     "text": [
      "1.13.3\n"
     ]
    }
   ],
   "source": [
    "import sympy\n",
    "print(sympy.__version__)"
   ]
  },
  {
   "cell_type": "markdown",
   "metadata": {},
   "source": [
    "# Build "
   ]
  },
  {
   "cell_type": "code",
   "execution_count": null,
   "metadata": {},
   "outputs": [
    {
     "name": "stdout",
     "output_type": "stream",
     "text": [
      "Detected OS: Linux\n",
      "Running: pyinstaller --onefile build/G2HDM.py\n"
     ]
    },
    {
     "name": "stderr",
     "output_type": "stream",
     "text": [
      "271 INFO: PyInstaller: 6.12.0, contrib hooks: 2025.1\n",
      "271 INFO: Python: 3.9.18\n",
      "276 INFO: Platform: Linux-5.14.0-427.42.1.el9_4.x86_64-x86_64-with-glibc2.34\n",
      "277 INFO: Python environment: /home/hjalmarh/Documents/2HDM_project/G2HDM_v1.0.0/.venv\n",
      "279 INFO: wrote /home/hjalmarh/Documents/2HDM_project/G2HDM_v1.0.0/G2HDM.spec\n",
      "287 INFO: Module search paths (PYTHONPATH):\n",
      "['/usr/lib64/python39.zip',\n",
      " '/usr/lib64/python3.9',\n",
      " '/usr/lib64/python3.9/lib-dynload',\n",
      " '/home/hjalmarh/Documents/2HDM_project/G2HDM_v1.0.0/.venv/lib64/python3.9/site-packages',\n",
      " '/home/hjalmarh/Documents/2HDM_project/G2HDM_v1.0.0/.venv/lib/python3.9/site-packages',\n",
      " '/home/hjalmarh/Documents/2HDM_project/G2HDM_v1.0.0/build']\n",
      "605 INFO: checking Analysis\n",
      "606 INFO: Building Analysis because Analysis-00.toc is non existent\n",
      "606 INFO: Running Analysis Analysis-00.toc\n",
      "606 INFO: Target bytecode optimization level: 0\n",
      "606 INFO: Initializing module dependency graph...\n",
      "607 INFO: Initializing module graph hook caches...\n",
      "641 INFO: Analyzing modules for base_library.zip ...\n",
      "1234 INFO: Processing standard module hook 'hook-encodings.py' from '/home/hjalmarh/Documents/2HDM_project/G2HDM_v1.0.0/.venv/lib64/python3.9/site-packages/PyInstaller/hooks'\n",
      "2093 INFO: Processing standard module hook 'hook-pickle.py' from '/home/hjalmarh/Documents/2HDM_project/G2HDM_v1.0.0/.venv/lib64/python3.9/site-packages/PyInstaller/hooks'\n",
      "2619 INFO: Processing standard module hook 'hook-heapq.py' from '/home/hjalmarh/Documents/2HDM_project/G2HDM_v1.0.0/.venv/lib64/python3.9/site-packages/PyInstaller/hooks'\n",
      "2759 INFO: Caching module dependency graph...\n",
      "2792 INFO: Looking for Python shared library...\n",
      "2814 INFO: Using Python shared library: /lib64/libpython3.9.so.1.0\n",
      "2814 INFO: Analyzing /home/hjalmarh/Documents/2HDM_project/G2HDM_v1.0.0/build/G2HDM.py\n",
      "2818 INFO: Processing module hooks (post-graph stage)...\n",
      "2825 INFO: Performing binary vs. data reclassification (1 entries)\n",
      "2841 INFO: Looking for ctypes DLLs\n",
      "2844 INFO: Analyzing run-time hooks ...\n",
      "2849 INFO: Creating base_library.zip...\n",
      "2889 INFO: Looking for dynamic libraries\n",
      "3530 INFO: Warnings written to /home/hjalmarh/Documents/2HDM_project/G2HDM_v1.0.0/build/G2HDM/warn-G2HDM.txt\n",
      "3538 INFO: Graph cross-reference written to /home/hjalmarh/Documents/2HDM_project/G2HDM_v1.0.0/build/G2HDM/xref-G2HDM.html\n",
      "3561 INFO: checking PYZ\n",
      "3561 INFO: Building PYZ because PYZ-00.toc is non existent\n",
      "3561 INFO: Building PYZ (ZlibArchive) /home/hjalmarh/Documents/2HDM_project/G2HDM_v1.0.0/build/G2HDM/PYZ-00.pyz\n",
      "3678 INFO: Building PYZ (ZlibArchive) /home/hjalmarh/Documents/2HDM_project/G2HDM_v1.0.0/build/G2HDM/PYZ-00.pyz completed successfully.\n",
      "3697 INFO: checking PKG\n",
      "3697 INFO: Building PKG because PKG-00.toc is non existent\n",
      "3697 INFO: Building PKG (CArchive) G2HDM.pkg\n"
     ]
    },
    {
     "name": "stdout",
     "output_type": "stream",
     "text": [
      "Shell script created: run_G2HDM.sh\n",
      "Executable created: dist/main\n"
     ]
    },
    {
     "name": "stderr",
     "output_type": "stream",
     "text": [
      "5602 INFO: Building PKG (CArchive) G2HDM.pkg completed successfully.\n",
      "5603 INFO: Bootloader /home/hjalmarh/Documents/2HDM_project/G2HDM_v1.0.0/.venv/lib64/python3.9/site-packages/PyInstaller/bootloader/Linux-64bit-intel/run\n",
      "5603 INFO: checking EXE\n",
      "5603 INFO: Building EXE because EXE-00.toc is non existent\n",
      "5603 INFO: Building EXE from EXE-00.toc\n",
      "5603 INFO: Copying bootloader EXE to /home/hjalmarh/Documents/2HDM_project/G2HDM_v1.0.0/dist/G2HDM\n",
      "5620 INFO: Appending PKG archive to custom ELF section in EXE\n",
      "5645 INFO: Building EXE from EXE-00.toc completed successfully.\n",
      "5647 INFO: Build complete! The results are available in: /home/hjalmarh/Documents/2HDM_project/G2HDM_v1.0.0/dist\n"
     ]
    },
    {
     "data": {
      "text/plain": [
       "0"
      ]
     },
     "execution_count": 20,
     "metadata": {},
     "output_type": "execute_result"
    }
   ],
   "source": [
    "#subprocess.check_call([sys.executable, \"build/G2HDM.py\"]) \n",
    "#subprocess.check_call([sys.executable, \"build/build.py\"])"
   ]
  },
  {
   "cell_type": "code",
   "execution_count": null,
   "metadata": {},
   "outputs": [],
   "source": []
  }
 ],
 "metadata": {
  "kernelspec": {
   "display_name": ".venv",
   "language": "python",
   "name": "python3"
  },
  "language_info": {
   "codemirror_mode": {
    "name": "ipython",
    "version": 3
   },
   "file_extension": ".py",
   "mimetype": "text/x-python",
   "name": "python",
   "nbconvert_exporter": "python",
   "pygments_lexer": "ipython3",
   "version": "3.9.18"
  }
 },
 "nbformat": 4,
 "nbformat_minor": 2
}
